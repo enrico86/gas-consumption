{
 "cells": [
  {
   "cell_type": "code",
   "execution_count": 11,
   "metadata": {
    "collapsed": false,
    "scrolled": false
   },
   "outputs": [],
   "source": [
    "import pandas as pd\n",
    "import numpy as np\n",
    "import requests\n",
    "import json\n",
    "import datetime\n",
    "from IPython.display import display\n",
    "from sklearn import cluster, linear_model\n",
    "from scipy.optimize import curve_fit\n",
    "import plotly.graph_objs as go\n",
    "import plotly.plotly as py\n",
    "from plotly.offline import init_notebook_mode, iplot\n",
    "init_notebook_mode() \n",
    "\n",
    "def get_dates_for_fiscal_year(fiscal_year):\n",
    "    year = int('20{}'.format(fiscal_year[:2]))\n",
    "    summer_start = datetime.date(year, 4, 1)\n",
    "    summer_end = datetime.date(year, 9, 30)\n",
    "    winter_start = datetime.date(year, 10, 1)\n",
    "    winter_end = datetime.date(year+1, 3, 31)\n",
    "    return winter_start, winter_end, summer_start, summer_end\n",
    "\n",
    "def get_fiscal_year(row):\n",
    "    if row[-1].month > 3: return str(row[-1].year)[-2:]+str(row[-1].year+1)[-2:]\n",
    "    else: return str(row[-1].year-1)[-2:]+str(row[-1].year)[-2:]"
   ]
  },
  {
   "cell_type": "code",
   "execution_count": 13,
   "metadata": {
    "collapsed": false,
    "scrolled": false
   },
   "outputs": [],
   "source": [
    "# load a map of states abbreviations from github\n",
    "states_response = requests.get(\n",
    "    'https://gist.githubusercontent.com/mshafrir/2646763/raw/8b0dbb93521f5d6889502305335104218454c2bf/states_hash.json')\n",
    "json_states = json.loads(states_response.text)\n",
    "\n",
    "eia_website_up = True\n",
    "\n",
    "if eia_website_up: # login via HTTP API\n",
    "    # Get data FROM U.S. Energy Information Administration using the below API key\n",
    "    api_key = '508B0FE56B9D2507A2CE82A700EE86D0'\n",
    "    req = 'http://api.eia.gov/series/?api_key={}&series_id=NG.N3010{}2.M'.format(api_key,'US')\n",
    "    r_us = requests.get(req)\n",
    "    data_us = json.loads(r_us.text)\n",
    "    dates = []\n",
    "    volumes = []\n",
    "    # set index using the total U.S. data\n",
    "    for element in data_us['series'][0]['data']:\n",
    "        dates.append(datetime.datetime.strptime(element[0], '%Y%m').date())\n",
    "        volumes.append(float(element[1]))    \n",
    "    df = pd.DataFrame(index=dates)\n",
    "    df.sort_index(ascending=True, inplace=True)\n",
    "\n",
    "    # load states consumption volumes into dataframe\n",
    "    for state in json_states:\n",
    "        dates = []\n",
    "        volumes = []\n",
    "        r = requests.get('http://api.eia.gov/series/?api_key={0}&series_id=NG.N3010{1}2.M'.format(api_key, state))\n",
    "        try:\n",
    "            data = json.loads(r.text)\n",
    "            column_name = json_states[data['series'][0]['geography'].split('-')[1]]\n",
    "            for element in data['series'][0]['data']:\n",
    "                dates.append(datetime.datetime.strptime(element[0], '%Y%m').date())\n",
    "                volumes.append(float(element[1]))                \n",
    "            df_tmp = pd.DataFrame(index=dates)\n",
    "            df_tmp[column_name] = volumes\n",
    "            df = pd.merge(df, df_tmp, how='outer', left_index=True, right_index=True)\n",
    "        except:\n",
    "            continue\n",
    "else: # RELY ON CSV FILE\n",
    "    # EIA.GOV under maintenance...\n",
    "    df = pd.read_csv('./NG_CONS_SUM_A_EPG0_VGT_MMCF_M.csv', delimiter=';', skiprows=2)\n",
    "    df.drop(df.columns[1],1,inplace=True) # drop US column\n",
    "    new_columns = []\n",
    "    for state in json_states:\n",
    "        new_columns.append(json_states[state])\n",
    "    new_columns = sorted(new_columns)\n",
    "    new_columns.remove('American Samoa') \n",
    "    new_columns.remove('Federated States Of Micronesia')\n",
    "    new_columns.remove('Guam')\n",
    "    new_columns.remove('Marshall Islands')\n",
    "    new_columns.remove('Northern Mariana Islands')\n",
    "    new_columns.remove('Palau')\n",
    "    new_columns.remove('Puerto Rico')\n",
    "    new_columns.remove('Virgin Islands')\n",
    "    df.columns = ['Date']+new_columns\n",
    "    df.set_index('Date', inplace=True)\n",
    "\n",
    "df = df.dropna(how='all')\n",
    "# build a normalized dataframe\n",
    "df_norm = df.apply(lambda x: x/x.sum())\n",
    "\n",
    "# total data\n",
    "total_data = [go.Scatter(x=df.index, y=df[c], name=c, mode='lines') for c in df.columns]\n",
    "total_layout = dict(title='Domestic US Gas consumption',\n",
    "                   xaxis=dict(title='Delivery Month'),\n",
    "                   yaxis=dict(title='Consumption (MMcft)'))\n",
    "fig_tot=dict(data=total_data, layout=total_layout)\n",
    "\n",
    "# Add fiscal year column\n",
    "df['DeliveryDate'] = pd.to_datetime(df.index)\n",
    "df.insert(0,'FiscalYear',df.apply(get_fiscal_year, axis=1))\n",
    "df=df.drop('DeliveryDate',1)\n",
    "df_norm['DeliveryDate'] = pd.to_datetime(df_norm.index)\n",
    "df_norm.insert(0,'FiscalYear',df_norm.apply(get_fiscal_year, axis=1))\n",
    "df_norm=df_norm.drop('DeliveryDate',1)"
   ]
  },
  {
   "cell_type": "code",
   "execution_count": 5,
   "metadata": {
    "collapsed": false,
    "scrolled": false
   },
   "outputs": [
    {
     "ename": "KeyboardInterrupt",
     "evalue": "",
     "output_type": "error",
     "traceback": [
      "\u001b[0;31m---------------------------------------------------------------------------\u001b[0m",
      "\u001b[0;31mKeyboardInterrupt\u001b[0m                         Traceback (most recent call last)",
      "\u001b[0;32m<ipython-input-5-a5b7d3e36175>\u001b[0m in \u001b[0;36m<module>\u001b[0;34m()\u001b[0m\n\u001b[1;32m     13\u001b[0m     \u001b[0;32mfor\u001b[0m \u001b[0mfy\u001b[0m \u001b[0;32min\u001b[0m \u001b[0mdf_bystate\u001b[0m\u001b[0;34m.\u001b[0m\u001b[0mindex\u001b[0m\u001b[0;34m.\u001b[0m\u001b[0mget_level_values\u001b[0m\u001b[0;34m(\u001b[0m\u001b[0;34m'FiscalYear'\u001b[0m\u001b[0;34m)\u001b[0m\u001b[0;34m:\u001b[0m\u001b[0;34m\u001b[0m\u001b[0m\n\u001b[1;32m     14\u001b[0m         \u001b[0mmax_value\u001b[0m \u001b[0;34m=\u001b[0m \u001b[0mdf_norm\u001b[0m\u001b[0;34m[\u001b[0m\u001b[0mstate\u001b[0m\u001b[0;34m]\u001b[0m\u001b[0;34m[\u001b[0m\u001b[0mdf\u001b[0m\u001b[0;34m[\u001b[0m\u001b[0;34m'FiscalYear'\u001b[0m\u001b[0;34m]\u001b[0m\u001b[0;34m==\u001b[0m\u001b[0mfy\u001b[0m\u001b[0;34m]\u001b[0m\u001b[0;34m.\u001b[0m\u001b[0mmax\u001b[0m\u001b[0;34m(\u001b[0m\u001b[0;34m)\u001b[0m\u001b[0;34m\u001b[0m\u001b[0m\n\u001b[0;32m---> 15\u001b[0;31m         \u001b[0mmin_value\u001b[0m \u001b[0;34m=\u001b[0m \u001b[0mdf_norm\u001b[0m\u001b[0;34m[\u001b[0m\u001b[0mstate\u001b[0m\u001b[0;34m]\u001b[0m\u001b[0;34m[\u001b[0m\u001b[0mdf\u001b[0m\u001b[0;34m[\u001b[0m\u001b[0;34m'FiscalYear'\u001b[0m\u001b[0;34m]\u001b[0m\u001b[0;34m==\u001b[0m\u001b[0mfy\u001b[0m\u001b[0;34m]\u001b[0m\u001b[0;34m.\u001b[0m\u001b[0mmin\u001b[0m\u001b[0;34m(\u001b[0m\u001b[0;34m)\u001b[0m\u001b[0;34m\u001b[0m\u001b[0m\n\u001b[0m\u001b[1;32m     16\u001b[0m         \u001b[0mdf_bystate\u001b[0m\u001b[0;34m.\u001b[0m\u001b[0mix\u001b[0m\u001b[0;34m[\u001b[0m\u001b[0mstate\u001b[0m\u001b[0;34m,\u001b[0m \u001b[0mfy\u001b[0m\u001b[0;34m]\u001b[0m\u001b[0;34m[\u001b[0m\u001b[0;34m'Seasonality'\u001b[0m\u001b[0;34m]\u001b[0m \u001b[0;34m=\u001b[0m \u001b[0;34m(\u001b[0m\u001b[0mmax_value\u001b[0m\u001b[0;34m-\u001b[0m\u001b[0mmin_value\u001b[0m\u001b[0;34m)\u001b[0m\u001b[0;34m/\u001b[0m\u001b[0;36m2.0\u001b[0m\u001b[0;34m\u001b[0m\u001b[0m\n\u001b[1;32m     17\u001b[0m \u001b[0;34m\u001b[0m\u001b[0m\n",
      "\u001b[0;32m/Users/enrico/Virtualenvs/DataScience/lib/python2.7/site-packages/pandas/core/series.pyc\u001b[0m in \u001b[0;36m__getitem__\u001b[0;34m(self, key)\u001b[0m\n\u001b[1;32m    558\u001b[0m     \u001b[0;32mdef\u001b[0m \u001b[0m__getitem__\u001b[0m\u001b[0;34m(\u001b[0m\u001b[0mself\u001b[0m\u001b[0;34m,\u001b[0m \u001b[0mkey\u001b[0m\u001b[0;34m)\u001b[0m\u001b[0;34m:\u001b[0m\u001b[0;34m\u001b[0m\u001b[0m\n\u001b[1;32m    559\u001b[0m         \u001b[0;32mtry\u001b[0m\u001b[0;34m:\u001b[0m\u001b[0;34m\u001b[0m\u001b[0m\n\u001b[0;32m--> 560\u001b[0;31m             \u001b[0mresult\u001b[0m \u001b[0;34m=\u001b[0m \u001b[0mself\u001b[0m\u001b[0;34m.\u001b[0m\u001b[0mindex\u001b[0m\u001b[0;34m.\u001b[0m\u001b[0mget_value\u001b[0m\u001b[0;34m(\u001b[0m\u001b[0mself\u001b[0m\u001b[0;34m,\u001b[0m \u001b[0mkey\u001b[0m\u001b[0;34m)\u001b[0m\u001b[0;34m\u001b[0m\u001b[0m\n\u001b[0m\u001b[1;32m    561\u001b[0m \u001b[0;34m\u001b[0m\u001b[0m\n\u001b[1;32m    562\u001b[0m             \u001b[0;32mif\u001b[0m \u001b[0;32mnot\u001b[0m \u001b[0mlib\u001b[0m\u001b[0;34m.\u001b[0m\u001b[0misscalar\u001b[0m\u001b[0;34m(\u001b[0m\u001b[0mresult\u001b[0m\u001b[0;34m)\u001b[0m\u001b[0;34m:\u001b[0m\u001b[0;34m\u001b[0m\u001b[0m\n",
      "\u001b[0;32m/Users/enrico/Virtualenvs/DataScience/lib/python2.7/site-packages/pandas/indexes/base.pyc\u001b[0m in \u001b[0;36mget_value\u001b[0;34m(self, series, key)\u001b[0m\n\u001b[1;32m   1909\u001b[0m         \u001b[0;32mtry\u001b[0m\u001b[0;34m:\u001b[0m\u001b[0;34m\u001b[0m\u001b[0m\n\u001b[1;32m   1910\u001b[0m             return self._engine.get_value(s, k,\n\u001b[0;32m-> 1911\u001b[0;31m                                           tz=getattr(series.dtype, 'tz', None))\n\u001b[0m\u001b[1;32m   1912\u001b[0m         \u001b[0;32mexcept\u001b[0m \u001b[0mKeyError\u001b[0m \u001b[0;32mas\u001b[0m \u001b[0me1\u001b[0m\u001b[0;34m:\u001b[0m\u001b[0;34m\u001b[0m\u001b[0m\n\u001b[1;32m   1913\u001b[0m             \u001b[0;32mif\u001b[0m \u001b[0mlen\u001b[0m\u001b[0;34m(\u001b[0m\u001b[0mself\u001b[0m\u001b[0;34m)\u001b[0m \u001b[0;34m>\u001b[0m \u001b[0;36m0\u001b[0m \u001b[0;32mand\u001b[0m \u001b[0mself\u001b[0m\u001b[0;34m.\u001b[0m\u001b[0minferred_type\u001b[0m \u001b[0;32min\u001b[0m \u001b[0;34m[\u001b[0m\u001b[0;34m'integer'\u001b[0m\u001b[0;34m,\u001b[0m \u001b[0;34m'boolean'\u001b[0m\u001b[0;34m]\u001b[0m\u001b[0;34m:\u001b[0m\u001b[0;34m\u001b[0m\u001b[0m\n",
      "\u001b[0;32mpandas/index.pyx\u001b[0m in \u001b[0;36mpandas.index.IndexEngine.get_value (pandas/index.c:3234)\u001b[0;34m()\u001b[0m\n",
      "\u001b[0;32mpandas/index.pyx\u001b[0m in \u001b[0;36mpandas.index.IndexEngine.get_value (pandas/index.c:2931)\u001b[0;34m()\u001b[0m\n",
      "\u001b[0;32mpandas/index.pyx\u001b[0m in \u001b[0;36mpandas.index.IndexEngine.get_loc (pandas/index.c:3625)\u001b[0;34m()\u001b[0m\n",
      "\u001b[0;32m/Users/enrico/Virtualenvs/DataScience/lib/python2.7/site-packages/numpy/core/numeric.pyc\u001b[0m in \u001b[0;36marray_str\u001b[0;34m(a, max_line_width, precision, suppress_small)\u001b[0m\n\u001b[1;32m   1867\u001b[0m \u001b[0;34m\u001b[0m\u001b[0m\n\u001b[1;32m   1868\u001b[0m     \"\"\"\n\u001b[0;32m-> 1869\u001b[0;31m     \u001b[0;32mreturn\u001b[0m \u001b[0marray2string\u001b[0m\u001b[0;34m(\u001b[0m\u001b[0ma\u001b[0m\u001b[0;34m,\u001b[0m \u001b[0mmax_line_width\u001b[0m\u001b[0;34m,\u001b[0m \u001b[0mprecision\u001b[0m\u001b[0;34m,\u001b[0m \u001b[0msuppress_small\u001b[0m\u001b[0;34m,\u001b[0m \u001b[0;34m' '\u001b[0m\u001b[0;34m,\u001b[0m \u001b[0;34m\"\"\u001b[0m\u001b[0;34m,\u001b[0m \u001b[0mstr\u001b[0m\u001b[0;34m)\u001b[0m\u001b[0;34m\u001b[0m\u001b[0m\n\u001b[0m\u001b[1;32m   1870\u001b[0m \u001b[0;34m\u001b[0m\u001b[0m\n\u001b[1;32m   1871\u001b[0m \u001b[0;32mdef\u001b[0m \u001b[0mset_string_function\u001b[0m\u001b[0;34m(\u001b[0m\u001b[0mf\u001b[0m\u001b[0;34m,\u001b[0m \u001b[0mrepr\u001b[0m\u001b[0;34m=\u001b[0m\u001b[0mTrue\u001b[0m\u001b[0;34m)\u001b[0m\u001b[0;34m:\u001b[0m\u001b[0;34m\u001b[0m\u001b[0m\n",
      "\u001b[0;32m/Users/enrico/Virtualenvs/DataScience/lib/python2.7/site-packages/numpy/core/arrayprint.pyc\u001b[0m in \u001b[0;36marray2string\u001b[0;34m(a, max_line_width, precision, suppress_small, separator, prefix, style, formatter)\u001b[0m\n\u001b[1;32m    445\u001b[0m     \u001b[0;32melse\u001b[0m\u001b[0;34m:\u001b[0m\u001b[0;34m\u001b[0m\u001b[0m\n\u001b[1;32m    446\u001b[0m         lst = _array2string(a, max_line_width, precision, suppress_small,\n\u001b[0;32m--> 447\u001b[0;31m                             separator, prefix, formatter=formatter)\n\u001b[0m\u001b[1;32m    448\u001b[0m     \u001b[0;32mreturn\u001b[0m \u001b[0mlst\u001b[0m\u001b[0;34m\u001b[0m\u001b[0m\n\u001b[1;32m    449\u001b[0m \u001b[0;34m\u001b[0m\u001b[0m\n",
      "\u001b[0;32m/Users/enrico/Virtualenvs/DataScience/lib/python2.7/site-packages/numpy/core/arrayprint.pyc\u001b[0m in \u001b[0;36m_array2string\u001b[0;34m(a, max_line_width, precision, suppress_small, separator, prefix, formatter)\u001b[0m\n\u001b[1;32m    259\u001b[0m     formatdict = {'bool': _boolFormatter,\n\u001b[1;32m    260\u001b[0m                   \u001b[0;34m'int'\u001b[0m\u001b[0;34m:\u001b[0m \u001b[0mIntegerFormat\u001b[0m\u001b[0;34m(\u001b[0m\u001b[0mdata\u001b[0m\u001b[0;34m)\u001b[0m\u001b[0;34m,\u001b[0m\u001b[0;34m\u001b[0m\u001b[0m\n\u001b[0;32m--> 261\u001b[0;31m                   \u001b[0;34m'float'\u001b[0m\u001b[0;34m:\u001b[0m \u001b[0mFloatFormat\u001b[0m\u001b[0;34m(\u001b[0m\u001b[0mdata\u001b[0m\u001b[0;34m,\u001b[0m \u001b[0mprecision\u001b[0m\u001b[0;34m,\u001b[0m \u001b[0msuppress_small\u001b[0m\u001b[0;34m)\u001b[0m\u001b[0;34m,\u001b[0m\u001b[0;34m\u001b[0m\u001b[0m\n\u001b[0m\u001b[1;32m    262\u001b[0m                   \u001b[0;34m'longfloat'\u001b[0m\u001b[0;34m:\u001b[0m \u001b[0mLongFloatFormat\u001b[0m\u001b[0;34m(\u001b[0m\u001b[0mprecision\u001b[0m\u001b[0;34m)\u001b[0m\u001b[0;34m,\u001b[0m\u001b[0;34m\u001b[0m\u001b[0m\n\u001b[1;32m    263\u001b[0m                   'complexfloat': ComplexFormat(data, precision,\n",
      "\u001b[0;32m/Users/enrico/Virtualenvs/DataScience/lib/python2.7/site-packages/numpy/core/arrayprint.pyc\u001b[0m in \u001b[0;36m__init__\u001b[0;34m(self, data, precision, suppress_small, sign)\u001b[0m\n\u001b[1;32m    535\u001b[0m         \u001b[0mself\u001b[0m\u001b[0;34m.\u001b[0m\u001b[0mmax_str_len\u001b[0m \u001b[0;34m=\u001b[0m \u001b[0;36m0\u001b[0m\u001b[0;34m\u001b[0m\u001b[0m\n\u001b[1;32m    536\u001b[0m         \u001b[0;32mtry\u001b[0m\u001b[0;34m:\u001b[0m\u001b[0;34m\u001b[0m\u001b[0m\n\u001b[0;32m--> 537\u001b[0;31m             \u001b[0mself\u001b[0m\u001b[0;34m.\u001b[0m\u001b[0mfillFormat\u001b[0m\u001b[0;34m(\u001b[0m\u001b[0mdata\u001b[0m\u001b[0;34m)\u001b[0m\u001b[0;34m\u001b[0m\u001b[0m\n\u001b[0m\u001b[1;32m    538\u001b[0m         \u001b[0;32mexcept\u001b[0m \u001b[0;34m(\u001b[0m\u001b[0mTypeError\u001b[0m\u001b[0;34m,\u001b[0m \u001b[0mNotImplementedError\u001b[0m\u001b[0;34m)\u001b[0m\u001b[0;34m:\u001b[0m\u001b[0;34m\u001b[0m\u001b[0m\n\u001b[1;32m    539\u001b[0m             \u001b[0;31m# if reduce(data) fails, this instance will not be called, just\u001b[0m\u001b[0;34m\u001b[0m\u001b[0;34m\u001b[0m\u001b[0m\n",
      "\u001b[0;32m/Users/enrico/Virtualenvs/DataScience/lib/python2.7/site-packages/numpy/core/arrayprint.pyc\u001b[0m in \u001b[0;36mfillFormat\u001b[0;34m(self, data)\u001b[0m\n\u001b[1;32m    546\u001b[0m         \u001b[0;32mwith\u001b[0m \u001b[0m_nc\u001b[0m\u001b[0;34m.\u001b[0m\u001b[0merrstate\u001b[0m\u001b[0;34m(\u001b[0m\u001b[0mall\u001b[0m\u001b[0;34m=\u001b[0m\u001b[0;34m'ignore'\u001b[0m\u001b[0;34m)\u001b[0m\u001b[0;34m:\u001b[0m\u001b[0;34m\u001b[0m\u001b[0m\n\u001b[1;32m    547\u001b[0m             \u001b[0mspecial\u001b[0m \u001b[0;34m=\u001b[0m \u001b[0misnan\u001b[0m\u001b[0;34m(\u001b[0m\u001b[0mdata\u001b[0m\u001b[0;34m)\u001b[0m \u001b[0;34m|\u001b[0m \u001b[0misinf\u001b[0m\u001b[0;34m(\u001b[0m\u001b[0mdata\u001b[0m\u001b[0;34m)\u001b[0m\u001b[0;34m\u001b[0m\u001b[0m\n\u001b[0;32m--> 548\u001b[0;31m             \u001b[0mvalid\u001b[0m \u001b[0;34m=\u001b[0m \u001b[0mnot_equal\u001b[0m\u001b[0;34m(\u001b[0m\u001b[0mdata\u001b[0m\u001b[0;34m,\u001b[0m \u001b[0;36m0\u001b[0m\u001b[0;34m)\u001b[0m \u001b[0;34m&\u001b[0m \u001b[0;34m~\u001b[0m\u001b[0mspecial\u001b[0m\u001b[0;34m\u001b[0m\u001b[0m\n\u001b[0m\u001b[1;32m    549\u001b[0m             \u001b[0mnon_zero\u001b[0m \u001b[0;34m=\u001b[0m \u001b[0mabsolute\u001b[0m\u001b[0;34m(\u001b[0m\u001b[0mdata\u001b[0m\u001b[0;34m.\u001b[0m\u001b[0mcompress\u001b[0m\u001b[0;34m(\u001b[0m\u001b[0mvalid\u001b[0m\u001b[0;34m)\u001b[0m\u001b[0;34m)\u001b[0m\u001b[0;34m\u001b[0m\u001b[0m\n\u001b[1;32m    550\u001b[0m             \u001b[0;32mif\u001b[0m \u001b[0mlen\u001b[0m\u001b[0;34m(\u001b[0m\u001b[0mnon_zero\u001b[0m\u001b[0;34m)\u001b[0m \u001b[0;34m==\u001b[0m \u001b[0;36m0\u001b[0m\u001b[0;34m:\u001b[0m\u001b[0;34m\u001b[0m\u001b[0m\n",
      "\u001b[0;31mKeyboardInterrupt\u001b[0m: "
     ]
    }
   ],
   "source": [
    "first_year = df_norm.first_valid_index().year\n",
    "last_year = df_norm.last_valid_index().year\n",
    "fiscal_years = ['{0}{1}'.format(str(year)[-2:],str(year+1)[-2:]) for year in range(first_year, last_year)]\n",
    "tuples = []\n",
    "for state in df_norm.columns[1:]:\n",
    "    for fy in fiscal_years:\n",
    "        tuples.append((state,fy))\n",
    "ix = pd.MultiIndex.from_tuples(tuples)\n",
    "df_bystate = pd.DataFrame(index=ix, columns=['Seasonality'])\n",
    "df_bystate.index.names = ['State', 'FiscalYear']\n",
    "\n",
    "for state in df_bystate.index.get_level_values('State'):\n",
    "    for fy in df_bystate.index.get_level_values('FiscalYear'):\n",
    "        max_value = df_norm[state][df['FiscalYear']==fy].max()\n",
    "        min_value = df_norm[state][df['FiscalYear']==fy].min()\n",
    "        df_bystate.ix[state, fy]['Seasonality'] = (max_value-min_value)/2.0\n",
    "\n",
    "df_bystate['Seasonality'] = df_bystate['Seasonality'].astype(float)\n",
    "df_bystate=df_bystate.groupby(level=0).describe()\n",
    "df_bystate.index.names = ['State', 'Value']\n",
    "df_bystate = df_bystate.xs('mean', level='Value')\n",
    "\n",
    "df_var = df[df.columns[1:]].pct_change()\n",
    "stds = []\n",
    "for state in df_bystate.index:\n",
    "    stds.append(df_var[state].std())\n",
    "df_bystate['MonthStd'] = stds"
   ]
  },
  {
   "cell_type": "code",
   "execution_count": 83,
   "metadata": {
    "collapsed": false,
    "scrolled": false
   },
   "outputs": [],
   "source": [
    "# LINEAR REGRESSION\n",
    "x_values = df_bystate['MonthStd'].values\n",
    "y_values = df_bystate['Seasonality'].values\n",
    "regr = linear_model.LinearRegression()\n",
    "regr.fit(x_values.reshape(len(x_values),1), y_values.reshape(len(y_values),1))\n",
    "regr2 = linear_model.Ridge(alpha=0.5)\n",
    "regr2.fit(x_values.reshape(len(x_values),1), y_values.reshape(len(y_values),1))\n",
    "y_predict = regr.predict(x_values.reshape(len(x_values),1))\n",
    "y_predict2 = regr2.predict(x_values.reshape(len(x_values),1))\n",
    "predicted_data = [go.Scatter(x=x_values, y=y_predict[:,0], mode='lines', name = 'linear model')]\n",
    "actual_data = [go.Scatter(x=df_bystate['MonthStd'], y=df_bystate['Seasonality'], mode='markers',\n",
    "                         name = 'State data')]\n",
    "data = actual_data+predicted_data\n",
    "layout = dict(title='U.S.A. natural gas residential consumption by state',\n",
    "             xaxis = dict(title='Monthly variations standard deviation'),\n",
    "             yaxis = dict(title='Average winter-summer consumption spread'),\n",
    "             annotations=[dict(x=0.3,y=0.0005,xref='x',yref='y',\n",
    "                               text='source: U.S. Energy Information Administration (https://www.eia.gov)',\n",
    "                               font=dict(size=10),showarrow=False)])\n",
    "fig_reg=dict(data=data, layout=layout)"
   ]
  },
  {
   "cell_type": "code",
   "execution_count": 80,
   "metadata": {
    "collapsed": false
   },
   "outputs": [],
   "source": [
    "df_bystate['Indicator'] = df_bystate['Seasonality']*df_bystate['MonthStd']\n",
    "riskiest_3 = df_bystate.sort_values(by='Indicator', ascending=False)[:3]\n",
    "safest_3 = df_bystate.sort_values(by='Indicator', ascending=False)[-3:]\n",
    "riskiest_3_data = [go.Scatter(x=df_norm.index, y=df_norm[c], name=c, mode='lines', \n",
    "                              marker=dict(color='darkred'), showlegend=False) for c in riskiest_3.index.values]\n",
    "safest_3_data = [go.Scatter(x=df_norm.index, y=df_norm[c], name=c, mode='lines', marker=dict(color='darkgreen'),\n",
    "                           showlegend=False) for c in safest_3.index.values]\n",
    "fake_1 = [go.Scatter(x=[1],y=[1],name='Risky',marker=dict(color='darkred'),mode='lines',visible='legendonly')]\n",
    "fake_2 = [go.Scatter(x=[1],y=[1],name='Safe',mode='lines',marker=dict(color='darkgreen'),visible='legendonly')]\n",
    "layout = dict(title=\"Three 'riskiest' and 'safest' natural gas consumption profiles\",\n",
    "              xaxis=dict(title='Delivery Month'),\n",
    "              yaxis=dict(title='Normalized volume')\n",
    "            )\n",
    "fig_risk=dict(data=riskiest_3_data+safest_3_data+fake_1+fake_2, layout=layout)"
   ]
  },
  {
   "cell_type": "code",
   "execution_count": 14,
   "metadata": {
    "collapsed": false
   },
   "outputs": [],
   "source": [
    "py.sign_in('enrico.tesio','ttv7w7heht')\n",
    "#url_reg=py.iplot(fig_reg, filename='gas-consumption-regression', sharing='public')\n",
    "#url_risk=py.iplot(fig_reg, filename='gas-consumption-regression', sharing='public')\n",
    "url_consumption = py.iplot(fig_tot, filename='total-domestic-consumption', sharing='public')"
   ]
  },
  {
   "cell_type": "code",
   "execution_count": null,
   "metadata": {
    "collapsed": true
   },
   "outputs": [],
   "source": []
  }
 ],
 "metadata": {
  "kernelspec": {
   "display_name": "Python 2",
   "language": "python",
   "name": "python2"
  },
  "language_info": {
   "codemirror_mode": {
    "name": "ipython",
    "version": 2
   },
   "file_extension": ".py",
   "mimetype": "text/x-python",
   "name": "python",
   "nbconvert_exporter": "python",
   "pygments_lexer": "ipython2",
   "version": "2.7.9"
  }
 },
 "nbformat": 4,
 "nbformat_minor": 0
}
